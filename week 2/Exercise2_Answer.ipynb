{
  "nbformat": 4,
  "nbformat_minor": 0,
  "metadata": {
    "colab": {
      "name": "Exercise2-Answer.ipynb",
      "version": "0.3.2",
      "provenance": [],
      "collapsed_sections": []
    },
    "kernelspec": {
      "name": "python3",
      "display_name": "Python 3"
    }
  },
  "cells": [
    {
      "cell_type": "code",
      "metadata": {
        "id": "rEHcB3kqyHZ6",
        "colab_type": "code",
        "colab": {
          "base_uri": "https://localhost:8080/",
          "height": 360
        },
        "outputId": "43f983c7-246a-4d12-f12e-6f38aa0f89d3"
      },
      "source": [
        "import tensorflow as tf\n",
        "\n",
        "class myCallback(tf.keras.callbacks.Callback):\n",
        "  def on_epoch_end(self, epoch, logs={}):\n",
        "    if(logs.get('acc')>0.99):\n",
        "      print(\"\\nReached 99% accuracy so cancelling training!\")\n",
        "      self.model.stop_training = True\n",
        "\n",
        "mnist = tf.keras.datasets.mnist\n",
        "\n",
        "(x_train, y_train),(x_test, y_test) = mnist.load_data()\n",
        "x_train, x_test = x_train / 255.0, x_test / 255.0\n",
        "\n",
        "callbacks = myCallback()\n",
        "\n",
        "model = tf.keras.models.Sequential([\n",
        "  tf.keras.layers.Flatten(input_shape=(28, 28)),\n",
        "  tf.keras.layers.Dense(512, activation=tf.nn.relu),\n",
        "  tf.keras.layers.Dense(10, activation=tf.nn.softmax)\n",
        "])\n",
        "model.compile(optimizer='adam',\n",
        "              loss='sparse_categorical_crossentropy',\n",
        "              metrics=['accuracy'])\n",
        "\n",
        "model.fit(x_train, y_train, epochs=10, callbacks=[callbacks])\n",
        "\n"
      ],
      "execution_count": 1,
      "outputs": [
        {
          "output_type": "stream",
          "text": [
            "Downloading data from https://storage.googleapis.com/tensorflow/tf-keras-datasets/mnist.npz\n",
            "11493376/11490434 [==============================] - 0s 0us/step\n"
          ],
          "name": "stdout"
        },
        {
          "output_type": "stream",
          "text": [
            "WARNING: Logging before flag parsing goes to stderr.\n",
            "W0723 18:18:17.568386 140144961603456 deprecation.py:506] From /usr/local/lib/python3.6/dist-packages/tensorflow/python/ops/init_ops.py:1251: calling VarianceScaling.__init__ (from tensorflow.python.ops.init_ops) with dtype is deprecated and will be removed in a future version.\n",
            "Instructions for updating:\n",
            "Call initializer instance with the dtype argument instead of passing it to the constructor\n"
          ],
          "name": "stderr"
        },
        {
          "output_type": "stream",
          "text": [
            "Epoch 1/10\n",
            "60000/60000 [==============================] - 8s 140us/sample - loss: 0.1991 - acc: 0.9414\n",
            "Epoch 2/10\n",
            "60000/60000 [==============================] - 8s 133us/sample - loss: 0.0793 - acc: 0.9756\n",
            "Epoch 3/10\n",
            "60000/60000 [==============================] - 8s 130us/sample - loss: 0.0525 - acc: 0.9837\n",
            "Epoch 4/10\n",
            "60000/60000 [==============================] - 8s 127us/sample - loss: 0.0368 - acc: 0.9883\n",
            "Epoch 5/10\n",
            "59968/60000 [============================>.] - ETA: 0s - loss: 0.0267 - acc: 0.9914\n",
            "Reached 99% accuracy so cancelling training!\n",
            "60000/60000 [==============================] - 8s 129us/sample - loss: 0.0267 - acc: 0.9914\n"
          ],
          "name": "stdout"
        },
        {
          "output_type": "execute_result",
          "data": {
            "text/plain": [
              "<tensorflow.python.keras.callbacks.History at 0x7f75d0892ba8>"
            ]
          },
          "metadata": {
            "tags": []
          },
          "execution_count": 1
        }
      ]
    },
    {
      "cell_type": "code",
      "metadata": {
        "id": "g4u9yLXRD2bY",
        "colab_type": "code",
        "colab": {
          "base_uri": "https://localhost:8080/",
          "height": 85
        },
        "outputId": "4ef181a5-4b84-422a-bc52-21510776950d"
      },
      "source": [
        "model.evaluate(x_test, y_test)\n",
        "classifications = model.predict(x_test)\n",
        "print(classifications[0])\n",
        "print(y_test[0])"
      ],
      "execution_count": 2,
      "outputs": [
        {
          "output_type": "stream",
          "text": [
            "10000/10000 [==============================] - 1s 62us/sample - loss: 0.0763 - acc: 0.9781\n",
            "[2.4171197e-08 9.1285973e-10 3.5249454e-07 1.2198424e-04 3.0063068e-12\n",
            " 1.7846737e-08 2.9388174e-12 9.9987304e-01 2.2830058e-09 4.6236960e-06]\n",
            "7\n"
          ],
          "name": "stdout"
        }
      ]
    }
  ]
}